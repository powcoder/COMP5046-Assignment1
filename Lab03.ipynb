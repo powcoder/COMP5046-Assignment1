{
 "cells": [
  {
   "cell_type": "markdown",
   "metadata": {
    "colab_type": "text",
    "id": "Rn_kEIjOfZ2I"
   },
   "source": [
    "# Lab03"
   ]
  },
  {
   "cell_type": "markdown",
   "metadata": {
    "colab_type": "text",
    "id": "OcAvq3CefbuL"
   },
   "source": [
    "## Neural Network \n",
    "We are going to implmenet a Neural Network for identifying animal species using features of animals."
   ]
  },
  {
   "cell_type": "code",
   "execution_count": 1,
   "metadata": {
    "colab": {},
    "colab_type": "code",
    "id": "qEoHF5OqElbw"
   },
   "outputs": [
    {
     "name": "stderr",
     "output_type": "stream",
     "text": [
      "C:\\Users\\daiwe\\Anaconda3\\lib\\site-packages\\h5py\\__init__.py:36: FutureWarning: Conversion of the second argument of issubdtype from `float` to `np.floating` is deprecated. In future, it will be treated as `np.float64 == np.dtype(float).type`.\n",
      "  from ._conv import register_converters as _register_converters\n"
     ]
    }
   ],
   "source": [
    "import tensorflow as tf\n",
    "import numpy as np"
   ]
  },
  {
   "cell_type": "markdown",
   "metadata": {
    "colab_type": "text",
    "id": "_6KQ_iFvPHMe"
   },
   "source": [
    "Let's say we have two features that represnet each: \n",
    "1. Does animal has hair? \n",
    "2. Does animal has feather?\n",
    "\n",
    "We would like to predict whether the animal is bird, mammal, or other. \n"
   ]
  },
  {
   "cell_type": "code",
   "execution_count": 2,
   "metadata": {
    "colab": {},
    "colab_type": "code",
    "id": "KA528d5gtbW4"
   },
   "outputs": [],
   "source": [
    "# [Hair, Feather]\n",
    "x_data = np.array(\n",
    "    [[0, 0], [1, 0], [1, 1], [0, 0], [0, 0], [0, 1]])\n",
    "\n",
    "# [Other, Mammal, Bird]\n",
    "y_data = np.array([\n",
    "    [1, 0, 0],  # Other\n",
    "    [0, 1, 0],  # Mammal\n",
    "    [0, 0, 1],  # Bird\n",
    "    [1, 0, 0],  # Other\n",
    "    [1, 0, 0],  # Mammal\n",
    "    [0, 0, 1]   # Bird\n",
    "])\n",
    "\n",
    "# number of input (features), 2 - Hair, Feather\n",
    "num_input = 2\n",
    "# number of output (classes), 3 - Other, Mammal, Bird\n",
    "num_classes = 3"
   ]
  },
  {
   "cell_type": "markdown",
   "metadata": {
    "colab_type": "text",
    "id": "TI4k8NogzksQ"
   },
   "source": [
    "\n",
    "**But, why One-hot encoding?**\n",
    "There is no ordinal relationship exists!"
   ]
  },
  {
   "cell_type": "markdown",
   "metadata": {
    "colab_type": "text",
    "id": "ZIMNFiTB27Wv"
   },
   "source": [
    "### No hidden layer"
   ]
  },
  {
   "cell_type": "code",
   "execution_count": 3,
   "metadata": {
    "colab": {
     "base_uri": "https://localhost:8080/",
     "height": 379
    },
    "colab_type": "code",
    "id": "HK_e65gs6SrQ",
    "outputId": "7f8fab0b-df33-4931-afcf-6a8c3f3332aa"
   },
   "outputs": [
    {
     "name": "stdout",
     "output_type": "stream",
     "text": [
      "Epoch 0, Cost= 0.7126, Training Accuracy= 0.333\n",
      "Epoch 200, Cost= 0.6716, Training Accuracy= 0.333\n",
      "Epoch 400, Cost= 0.6357, Training Accuracy= 0.333\n",
      "Epoch 600, Cost= 0.6043, Training Accuracy= 0.833\n",
      "Epoch 800, Cost= 0.5763, Training Accuracy= 0.833\n",
      "Epoch 1000, Cost= 0.5513, Training Accuracy= 0.833\n",
      "Epoch 1200, Cost= 0.5287, Training Accuracy= 0.833\n",
      "Epoch 1400, Cost= 0.5082, Training Accuracy= 0.833\n",
      "Epoch 1600, Cost= 0.4894, Training Accuracy= 0.833\n",
      "Epoch 1800, Cost= 0.4721, Training Accuracy= 0.833\n",
      "Predicted : [0 2 2 0 0 2]\n",
      "Answer : [0 1 2 0 0 2]\n",
      "Accuracy : 83.33\n"
     ]
    }
   ],
   "source": [
    "### Neural Network Model\n",
    "X = tf.placeholder(tf.float32)\n",
    "Y = tf.placeholder(tf.float32)\n",
    "\n",
    "weights = {\n",
    "    # [Input(Features), Output(Classes)] -> [2, 3]\n",
    "    'out': tf.Variable(tf.random_normal([num_input, num_classes]))\n",
    "}\n",
    "biases = {\n",
    "    # Let Bias the number of output candidates, which is 3 (number of classes).\n",
    "    'out': tf.Variable(tf.random_normal([num_classes]))\n",
    "}\n",
    "\n",
    "learning_rate=0.01\n",
    "\n",
    "def neural_network(X):\n",
    "  # Apply Weight and Bias\n",
    "  output_layer = tf.add(tf.matmul(X, weights['out']), biases['out'])\n",
    "    \n",
    "  return output_layer\n",
    "    \n",
    "logits = neural_network(X)\n",
    "\n",
    "# Calculate cost (error) for the model\n",
    "cost_op = tf.reduce_mean(\n",
    "    tf.nn.sigmoid_cross_entropy_with_logits(labels=Y, logits=logits))\n",
    "\n",
    "\n",
    "# Apply GradientDescent optimiser\n",
    "optimizer = tf.train.GradientDescentOptimizer(learning_rate=learning_rate)\n",
    "train_op = optimizer.minimize(cost_op)\n",
    "\n",
    "### Evaluation\n",
    "# Apply softmax() to have normalised output\n",
    "# softmax() changes each value to have between 0 and 1, and all values will add up to 1\n",
    "# softmax = tf.exp(logits) / tf.reduce_sum(tf.exp(logits), axis)\n",
    "prediction = tf.nn.softmax(logits)\n",
    "\n",
    "correct_pred = tf.equal(tf.argmax(prediction, 1), tf.argmax(Y, 1))\n",
    "accuracy = tf.reduce_mean(tf.cast(correct_pred, tf.float32))\n",
    "\n",
    "### Train Model\n",
    "init = tf.global_variables_initializer()\n",
    "with tf.Session() as sess:\n",
    "  \n",
    "  sess.run(init)\n",
    "  \n",
    "  no_of_epochs = 2000\n",
    "  display_interval = 200\n",
    "\n",
    "  # Every epoch, the model will be modified by the given learning rate\n",
    "  for epoch in range(no_of_epochs):\n",
    "    sess.run(train_op, feed_dict={X:x_data, Y:y_data})    \n",
    "    # every display_interval loop, the training information will be displayed\n",
    "    if epoch % display_interval == 0 :\n",
    "      # calculate the cost/accuracy of the current model\n",
    "      cost, acc = sess.run([cost_op, accuracy], feed_dict={X: x_data,\n",
    "                                                             Y: y_data})\n",
    "      print(\"Epoch \" + str(epoch) + \", Cost= \" + \n",
    "              \"{:.4f}\".format(cost) + \", Training Accuracy= \" + \n",
    "              \"{:.3f}\".format(acc))\n",
    "\n",
    "\n",
    "### Result\n",
    "  prediction = tf.argmax(prediction, 1)\n",
    "  answer = tf.argmax(Y, 1)\n",
    "  print('Predicted :', sess.run(prediction, feed_dict={X: x_data}))\n",
    "  print('Answer :', sess.run(answer, feed_dict={Y: y_data}))\n",
    "\n",
    "  is_correct = tf.equal(prediction, answer)\n",
    "  accuracy = tf.reduce_mean(tf.cast(is_correct, tf.float32))\n",
    "  print('Accuracy : %.2f' % sess.run(accuracy * 100, feed_dict={X: x_data, Y: y_data}))\n"
   ]
  },
  {
   "cell_type": "markdown",
   "metadata": {
    "colab_type": "text",
    "id": "7RF_stSG5Nc6"
   },
   "source": [
    "### With Hidden Layer"
   ]
  },
  {
   "cell_type": "code",
   "execution_count": 4,
   "metadata": {
    "colab": {
     "base_uri": "https://localhost:8080/",
     "height": 238
    },
    "colab_type": "code",
    "id": "4gOzySuX8axX",
    "outputId": "dd51a8d8-fd4b-4169-991e-362fcb274b5e"
   },
   "outputs": [
    {
     "name": "stdout",
     "output_type": "stream",
     "text": [
      "Epoch 0, Cost= 0.9729, Training Accuracy= 0.833\n",
      "Epoch 200, Cost= 0.6996, Training Accuracy= 0.833\n",
      "Epoch 400, Cost= 0.5150, Training Accuracy= 0.833\n",
      "Epoch 600, Cost= 0.3885, Training Accuracy= 0.833\n",
      "Epoch 800, Cost= 0.3025, Training Accuracy= 0.833\n",
      "Epoch 1000, Cost= 0.2446, Training Accuracy= 1.000\n",
      "Epoch 1200, Cost= 0.2022, Training Accuracy= 1.000\n",
      "Epoch 1400, Cost= 0.1698, Training Accuracy= 1.000\n",
      "Epoch 1600, Cost= 0.1443, Training Accuracy= 1.000\n",
      "Epoch 1800, Cost= 0.1243, Training Accuracy= 1.000\n",
      "Predicted : [0 1 2 0 0 2]\n",
      "Answer : [0 1 2 0 0 2]\n",
      "Accuracy : 100.00\n"
     ]
    }
   ],
   "source": [
    "### Neural Network Model\n",
    "\n",
    "# number of neurons in hidden layer, \n",
    "n_hidden_1 = 5\n",
    "\n",
    "X = tf.placeholder(tf.float32)\n",
    "Y = tf.placeholder(tf.float32)\n",
    "\n",
    "\n",
    "weights = {\n",
    "    # [Input(Features), Output(number of neurons in hidden layer)] -> [2, 5]\n",
    "    'w1': tf.Variable(tf.random_uniform([num_input, n_hidden_1], -1., 1.)),\n",
    "    # [Input(number of neurons in hidden layer), Output(Classes)] -> [5, 3]\n",
    "    'out': tf.Variable(tf.random_uniform([n_hidden_1, num_classes], -1., 1.))\n",
    "}\n",
    "biases = {\n",
    "    # Let Hidden Layer Bias the number of output candidates, which is 3 (number of neurons in hidden layer).\n",
    "    'b1': tf.Variable(tf.random_normal([n_hidden_1])),\n",
    "    # Let Bias the number of output candidates, which is 3 (number of classes).\n",
    "    'out': tf.Variable(tf.random_normal([num_classes]))\n",
    "}\n",
    "\n",
    "learning_rate=0.01\n",
    "\n",
    "def neural_network(X):\n",
    "  # Apply Weight and Bias to each neuron \n",
    "  hidden_layer = tf.add(tf.matmul(X, weights['w1']), biases['b1'])\n",
    "\n",
    "  # Apply ReLU (Activation Function)\n",
    "  output_layer = tf.matmul( tf.nn.relu(hidden_layer), weights['out']) + biases['out']  \n",
    "    \n",
    "  return output_layer\n",
    "    \n",
    "logits = neural_network(X)\n",
    "\n",
    "# Calculate cost (error) for the model\n",
    "cost_op = tf.reduce_mean(\n",
    "    tf.nn.softmax_cross_entropy_with_logits_v2(labels=Y, logits=logits))\n",
    "\n",
    "\n",
    "# Apply GradientDescent optimiser\n",
    "optimizer = tf.train.GradientDescentOptimizer(learning_rate=learning_rate)\n",
    "train_op = optimizer.minimize(cost_op)\n",
    "\n",
    "\n",
    "### Evaluation\n",
    "# Apply softmax() to have normalised output\n",
    "# softmax() changes each value to have between 0 and 1, and all values will add up to 1\n",
    "# i.e.) [8.04, 2.76, -6.52] -> [0.53 0.24 0.23]\n",
    "# softmax = tf.exp(logits) / tf.reduce_sum(tf.exp(logits), axis)\n",
    "prediction = tf.nn.softmax(logits)\n",
    "\n",
    "correct_pred = tf.equal(tf.argmax(prediction, 1), tf.argmax(Y, 1))\n",
    "accuracy = tf.reduce_mean(tf.cast(correct_pred, tf.float32))\n",
    "\n",
    "\n",
    "### Train Model\n",
    "init = tf.global_variables_initializer()\n",
    "with tf.Session() as sess:\n",
    "  \n",
    "  sess.run(init)\n",
    "  \n",
    "  no_of_epochs = 2000\n",
    "  display_interval = 200\n",
    "  \n",
    "  # Every epoch, the model will be modified by the given learning rate\n",
    "  for epoch in range(no_of_epochs):\n",
    "    sess.run(train_op, feed_dict={X:x_data, Y:y_data})    \n",
    "    # every display_interval loop, the training information will be displayed\n",
    "    if epoch % display_interval == 0 :\n",
    "      # calculate the cost/accuracy of the current model\n",
    "      cost, acc = sess.run([cost_op, accuracy], feed_dict={X: x_data,\n",
    "                                                             Y: y_data})\n",
    "      print(\"Epoch \" + str(epoch) + \", Cost= \" + \n",
    "              \"{:.4f}\".format(cost) + \", Training Accuracy= \" + \n",
    "              \"{:.3f}\".format(acc))\n",
    "\n",
    "\n",
    "### Result \n",
    "  prediction = tf.argmax(prediction, 1)\n",
    "  answer = tf.argmax(Y, 1)\n",
    "  print('Predicted :', sess.run(prediction, feed_dict={X: x_data}))\n",
    "  print('Answer :', sess.run(answer, feed_dict={Y: y_data}))\n",
    "\n",
    "  is_correct = tf.equal(prediction, answer)\n",
    "  accuracy = tf.reduce_mean(tf.cast(is_correct, tf.float32))\n",
    "  print('Accuracy : %.2f' % sess.run(accuracy * 100, feed_dict={X: x_data, Y: y_data}))\n"
   ]
  },
  {
   "cell_type": "markdown",
   "metadata": {
    "colab_type": "text",
    "id": "TLsGUsJQTDmP"
   },
   "source": [
    "### Word2Vec on TensorFlow\n",
    "Let's try to implement Word2Vec with Neural Network with TensorFlow"
   ]
  },
  {
   "cell_type": "code",
   "execution_count": 0,
   "metadata": {
    "colab": {},
    "colab_type": "code",
    "id": "h73M742bwUGi"
   },
   "outputs": [],
   "source": [
    "import tensorflow as tf\n",
    "import matplotlib\n",
    "import matplotlib.pyplot as plt\n",
    "import numpy as np\n",
    "\n",
    "# raw data - setences \n",
    "sentences = [\"he likes cat\",\n",
    "             \"he likes dog\",\n",
    "             \"he likes animal\",\n",
    "             \"dog cat animal\",\n",
    "             \"she likes cat\",\n",
    "             \"she dislikes dog\",\n",
    "             \"cat likes fish\",\n",
    "             \"cat likes milk\",\n",
    "             \"dog likes bone\",\n",
    "             \"dog dislikes fish\",\n",
    "             \"dog likes milk\",\n",
    "             \"she likes movie\",\n",
    "             \"she likes music\",\n",
    "             \"he likes game\",\n",
    "             \"he likes movie\",\n",
    "             \"cat dislikes dog\"]\n",
    "\n",
    "# convert all sentences to unique word list\n",
    "word_sequence = \" \".join(sentences).split()\n",
    "word_list = \" \".join(sentences).split()\n",
    "word_list = list(set(word_list))\n",
    "\n",
    "# make dictionary so that we can be reference each index of unique word\n",
    "word_dict = {w: i for i, w in enumerate(word_list)}\n",
    "\n",
    "# Making window size 1 skip-gram\n",
    "# i.e.) he likes cat\n",
    "#   -> (he, [likes]), (likes,[he, cat]), (cat,[likes])\n",
    "#   -> (he, likes), (likes, he), (likes, cat), (cat, likes)\n",
    "skip_grams = []\n",
    "\n",
    "for i in range(1, len(word_sequence) - 1):\n",
    "    # (context, target) : ([target index - 1, target index + 1], target)\n",
    "    target = word_dict[word_sequence[i]]\n",
    "    context = [word_dict[word_sequence[i - 1]], word_dict[word_sequence[i + 1]]]\n",
    "\n",
    "    # skipgrams - (target, context[0]), (target, context[1])..\n",
    "    for w in context:\n",
    "        skip_grams.append([target, w])\n",
    "\n",
    "        "
   ]
  },
  {
   "cell_type": "code",
   "execution_count": 0,
   "metadata": {
    "colab": {},
    "colab_type": "code",
    "id": "EOXUC3nquEgO"
   },
   "outputs": [],
   "source": [
    "\n",
    "### Create Model Graph\n",
    "\n",
    "# prepare random batch from skip-gram - we do not have enought data so we randomly select data\n",
    "def prepare_batch(data, size):\n",
    "    random_inputs = []\n",
    "    random_labels = []\n",
    "    random_index = np.random.choice(range(len(data)), size, replace=False)\n",
    "\n",
    "    for i in random_index:\n",
    "        random_inputs.append(data[i][0])  # target\n",
    "        random_labels.append([data[i][1]])  # context word\n",
    "\n",
    "    return random_inputs, random_labels\n",
    "\n",
    "\n",
    "learning_rate = 0.1\n",
    "batch_size = 10\n",
    "embedding_size = 2\n",
    "\n",
    "# sampling size for nce_loss function (cost function)\n",
    "# must be lower than batch_size\n",
    "sample_size = 5\n",
    "\n",
    "voc_size = len(word_list)\n",
    "\n",
    "\n",
    "inputs = tf.placeholder(tf.int32, shape=[batch_size])\n",
    "# placeholder (output) of function tf.nn.nce_loss()\n",
    "labels = tf.placeholder(tf.int32, shape=[batch_size, 1])\n",
    "\n",
    "# word2vec Model\n",
    "embeddings = tf.Variable(tf.random_uniform([voc_size, embedding_size], -1.0, 1.0))\n",
    "# i.e.)  embeddings       inputs       selected\n",
    "#       [[1, 2, 3]   ->   [2, 3]   -> [[2, 3, 4]\n",
    "#        [2, 3, 4]                    [3, 4, 5]]\n",
    "#        [3, 4, 5]\n",
    "#        [4, 5, 6]]\n",
    "selected_embed = tf.nn.embedding_lookup(embeddings, inputs)\n",
    "\n",
    "# weight and bias for nce_loss() function\n",
    "nce_weights = tf.Variable(tf.random_uniform([voc_size, embedding_size], -1.0, 1.0))\n",
    "nce_biases = tf.Variable(tf.zeros([voc_size]))\n",
    "\n",
    "cost_op = tf.reduce_mean(\n",
    "            tf.nn.nce_loss(nce_weights, nce_biases, labels, selected_embed, sample_size, voc_size))\n",
    "\n",
    "train_op = tf.train.AdamOptimizer(learning_rate).minimize(cost_op)\n",
    "\n"
   ]
  },
  {
   "cell_type": "markdown",
   "metadata": {
    "colab_type": "text",
    "id": "-g7aHlqS0LeR"
   },
   "source": [
    "** [tf.nn.embedding_lookup()](https://www.tensorflow.org/api_docs/python/tf/nn/embedding_lookup)** lets you find ids in a list of embedding tensors"
   ]
  },
  {
   "cell_type": "code",
   "execution_count": 0,
   "metadata": {
    "colab": {
     "base_uri": "https://localhost:8080/",
     "height": 187
    },
    "colab_type": "code",
    "id": "Lp2opCF00HyY",
    "outputId": "b4db7012-b666-4405-d0a1-ffa5cf00e17b"
   },
   "outputs": [
    {
     "name": "stdout",
     "output_type": "stream",
     "text": [
      "Epoch 0, Cost= 5.4393\n",
      "Epoch 50, Cost= 2.9625\n",
      "Epoch 100, Cost= 2.6694\n",
      "Epoch 150, Cost= 2.7702\n",
      "Epoch 200, Cost= 3.0346\n",
      "Epoch 250, Cost= 2.0922\n",
      "Epoch 300, Cost= 3.0628\n",
      "Epoch 350, Cost= 2.7637\n",
      "Epoch 400, Cost= 2.6921\n",
      "Epoch 450, Cost= 1.9082\n"
     ]
    }
   ],
   "source": [
    "### Training Model\n",
    "init = tf.global_variables_initializer()\n",
    "with tf.Session() as sess:\n",
    "    sess.run(init)\n",
    "\n",
    "    no_of_epochs = 500\n",
    "    display_interval = 50\n",
    "\n",
    "    for epoch in range(no_of_epochs):\n",
    "        batch_inputs, batch_labels = prepare_batch(skip_grams, batch_size)\n",
    "        sess.run(train_op, feed_dict={inputs:batch_inputs, labels:batch_labels})    \n",
    "\n",
    "        if epoch % display_interval == 0 :\n",
    "            # calculate the cost/accuracy of the current model\n",
    "            cost = sess.run(cost_op, feed_dict={inputs:batch_inputs,\n",
    "                                                  labels:batch_labels})\n",
    "            print(\"Epoch \" + str(epoch) + \", Cost= \" + \n",
    "                    \"{:.4f}\".format(cost))\n",
    "            \n",
    "    # assign the learned embeddings for display on matplot\n",
    "    # within 'with'  you can use eval() instead of sess.run()\n",
    "    trained_embeddings = embeddings.eval()"
   ]
  },
  {
   "cell_type": "code",
   "execution_count": 0,
   "metadata": {
    "colab": {
     "base_uri": "https://localhost:8080/",
     "height": 568
    },
    "colab_type": "code",
    "id": "2z2uWigF0g0d",
    "outputId": "754d9f0e-b629-4096-a0fe-03d166b39fba"
   },
   "outputs": [
    {
     "name": "stdout",
     "output_type": "stream",
     "text": [
      "cat  :  -0.49752787   0.93185204\n",
      "animal  :  0.99914116   2.720765\n",
      "she  :  -0.9434561   0.57075965\n",
      "game  :  -0.23621565   0.39430162\n",
      "movie  :  0.2172109   2.4245694\n",
      "likes  :  0.6827055   0.5641703\n",
      "he  :  -0.7027736   1.3220752\n",
      "dislikes  :  1.4362885   1.3491536\n",
      "music  :  0.05580752   0.16163564\n",
      "bone  :  0.90876615   2.1918013\n",
      "fish  :  -0.8218659   1.4923003\n",
      "milk  :  -0.034375537   3.7711337\n",
      "dog  :  -0.7450647   0.6490316\n"
     ]
    },
    {
     "data": {
      "image/png": "[encoded data removed]",
      "text/plain": [
       "<Figure size 576x396 with 1 Axes>"
      ]
     },
     "metadata": {
      "tags": []
     },
     "output_type": "display_data"
    }
   ],
   "source": [
    "### Visualise result\n",
    "for i, label in enumerate(word_list):\n",
    "    x, y = trained_embeddings[i]\n",
    "    print (label, \" : \", x, \" \" , y)\n",
    "    plt.scatter(x, y)\n",
    "    plt.annotate(label, xy=(x, y), xytext=(5, 2),\n",
    "                 textcoords='offset points', ha='right', va='bottom')\n",
    "\n",
    "plt.show()\n"
   ]
  },
  {
   "cell_type": "markdown",
   "metadata": {
    "colab_type": "text",
    "id": "1ROBhUU-zb5j"
   },
   "source": [
    "# Scikit-learn (sklearn) & pandas package\n",
    "\n",
    "[sklearn](https://scikit-learn.org/stable/modules/classes.html) and [pandas](http://pandas.pydata.org/pandas-docs/stable/reference/index.html) are powerful tools for data mining and data analysis."
   ]
  },
  {
   "cell_type": "markdown",
   "metadata": {
    "colab_type": "text",
    "id": "FRyoYRUD1dF2"
   },
   "source": [
    "First, download tagged movie plots data.\n"
   ]
  },
  {
   "cell_type": "code",
   "execution_count": 0,
   "metadata": {
    "colab": {
     "base_uri": "https://localhost:8080/",
     "height": 51
    },
    "colab_type": "code",
    "id": "itQKDwpN3h-F",
    "outputId": "23dacadc-bb73-4dd6-8e4b-1268343d7c71"
   },
   "outputs": [
    {
     "name": "stdout",
     "output_type": "stream",
     "text": [
      "\u001b[?25l\r",
      "\u001b[K    1% |▎                               | 10kB 20.9MB/s eta 0:00:01\r",
      "\u001b[K    2% |▋                               | 20kB 1.8MB/s eta 0:00:01\r",
      "\u001b[K    3% |█                               | 30kB 2.7MB/s eta 0:00:01\r",
      "\u001b[K    4% |█▎                              | 40kB 1.7MB/s eta 0:00:01\r",
      "\u001b[K    5% |█▋                              | 51kB 2.1MB/s eta 0:00:01\r",
      "\u001b[K    6% |██                              | 61kB 2.5MB/s eta 0:00:01\r",
      "\u001b[K    7% |██▎                             | 71kB 2.9MB/s eta 0:00:01\r",
      "\u001b[K    8% |██▋                             | 81kB 3.3MB/s eta 0:00:01\r",
      "\u001b[K    9% |███                             | 92kB 3.7MB/s eta 0:00:01\r",
      "\u001b[K    10% |███▎                            | 102kB 2.8MB/s eta 0:00:01\r",
      "\u001b[K    11% |███▋                            | 112kB 2.8MB/s eta 0:00:01\r",
      "\u001b[K    12% |████                            | 122kB 4.0MB/s eta 0:00:01\r",
      "\u001b[K    13% |████▎                           | 133kB 4.0MB/s eta 0:00:01\r",
      "\u001b[K    14% |████▋                           | 143kB 7.6MB/s eta 0:00:01\r",
      "\u001b[K    15% |█████                           | 153kB 7.7MB/s eta 0:00:01\r",
      "\u001b[K    16% |█████▎                          | 163kB 7.7MB/s eta 0:00:01\r",
      "\u001b[K    17% |█████▋                          | 174kB 7.7MB/s eta 0:00:01\r",
      "\u001b[K    18% |██████                          | 184kB 7.8MB/s eta 0:00:01\r",
      "\u001b[K    19% |██████▎                         | 194kB 7.8MB/s eta 0:00:01\r",
      "\u001b[K    20% |██████▋                         | 204kB 43.5MB/s eta 0:00:01\r",
      "\u001b[K    21% |███████                         | 215kB 8.4MB/s eta 0:00:01\r",
      "\u001b[K    22% |███████▎                        | 225kB 8.3MB/s eta 0:00:01\r",
      "\u001b[K    23% |███████▋                        | 235kB 8.3MB/s eta 0:00:01\r",
      "\u001b[K    24% |████████                        | 245kB 8.3MB/s eta 0:00:01\r",
      "\u001b[K    25% |████████▎                       | 256kB 8.3MB/s eta 0:00:01\r",
      "\u001b[K    26% |████████▋                       | 266kB 8.1MB/s eta 0:00:01\r",
      "\u001b[K    27% |█████████                       | 276kB 8.2MB/s eta 0:00:01\r",
      "\u001b[K    29% |█████████▎                      | 286kB 8.2MB/s eta 0:00:01\r",
      "\u001b[K    30% |█████████▋                      | 296kB 8.2MB/s eta 0:00:01\r",
      "\u001b[K    31% |██████████                      | 307kB 8.4MB/s eta 0:00:01\r",
      "\u001b[K    32% |██████████▎                     | 317kB 46.7MB/s eta 0:00:01\r",
      "\u001b[K    33% |██████████▋                     | 327kB 49.5MB/s eta 0:00:01\r",
      "\u001b[K    34% |███████████                     | 337kB 52.6MB/s eta 0:00:01\r",
      "\u001b[K    35% |███████████▎                    | 348kB 45.4MB/s eta 0:00:01\r",
      "\u001b[K    36% |███████████▋                    | 358kB 44.1MB/s eta 0:00:01\r",
      "\u001b[K    37% |████████████                    | 368kB 51.0MB/s eta 0:00:01\r",
      "\u001b[K    38% |████████████▎                   | 378kB 50.4MB/s eta 0:00:01\r",
      "\u001b[K    39% |████████████▋                   | 389kB 50.4MB/s eta 0:00:01\r",
      "\u001b[K    40% |█████████████                   | 399kB 9.6MB/s eta 0:00:01\r",
      "\u001b[K    41% |█████████████▎                  | 409kB 9.5MB/s eta 0:00:01\r",
      "\u001b[K    42% |█████████████▋                  | 419kB 9.4MB/s eta 0:00:01\r",
      "\u001b[K    43% |██████████████                  | 430kB 9.4MB/s eta 0:00:01\r",
      "\u001b[K    44% |██████████████▎                 | 440kB 9.4MB/s eta 0:00:01\r",
      "\u001b[K    45% |██████████████▋                 | 450kB 9.5MB/s eta 0:00:01\r",
      "\u001b[K    46% |███████████████                 | 460kB 9.5MB/s eta 0:00:01\r",
      "\u001b[K    47% |███████████████▎                | 471kB 9.5MB/s eta 0:00:01\r",
      "\u001b[K    48% |███████████████▋                | 481kB 9.6MB/s eta 0:00:01\r",
      "\u001b[K    49% |████████████████                | 491kB 9.6MB/s eta 0:00:01\r",
      "\u001b[K    50% |████████████████▎               | 501kB 49.5MB/s eta 0:00:01\r",
      "\u001b[K    51% |████████████████▋               | 512kB 48.5MB/s eta 0:00:01\r",
      "\u001b[K    52% |█████████████████               | 522kB 51.4MB/s eta 0:00:01\r",
      "\u001b[K    53% |█████████████████▎              | 532kB 52.7MB/s eta 0:00:01\r",
      "\u001b[K    54% |█████████████████▋              | 542kB 9.0MB/s eta 0:00:01\r",
      "\u001b[K    55% |██████████████████              | 552kB 9.1MB/s eta 0:00:01\r",
      "\u001b[K    57% |██████████████████▎             | 563kB 9.1MB/s eta 0:00:01\r",
      "\u001b[K    58% |██████████████████▋             | 573kB 9.0MB/s eta 0:00:01\r",
      "\u001b[K    59% |███████████████████             | 583kB 9.0MB/s eta 0:00:01\r",
      "\u001b[K    60% |███████████████████▎            | 593kB 8.9MB/s eta 0:00:01\r",
      "\u001b[K    61% |███████████████████▋            | 604kB 8.9MB/s eta 0:00:01\r",
      "\u001b[K    62% |████████████████████            | 614kB 9.1MB/s eta 0:00:01\r",
      "\u001b[K    63% |████████████████████▎           | 624kB 9.0MB/s eta 0:00:01\r",
      "\u001b[K    64% |████████████████████▋           | 634kB 9.1MB/s eta 0:00:01\r",
      "\u001b[K    65% |█████████████████████           | 645kB 56.5MB/s eta 0:00:01\r",
      "\u001b[K    66% |█████████████████████▎          | 655kB 59.6MB/s eta 0:00:01\r",
      "\u001b[K    67% |█████████████████████▋          | 665kB 46.9MB/s eta 0:00:01\r",
      "\u001b[K    68% |██████████████████████          | 675kB 48.4MB/s eta 0:00:01\r",
      "\u001b[K    69% |██████████████████████▎         | 686kB 49.7MB/s eta 0:00:01\r",
      "\u001b[K    70% |██████████████████████▋         | 696kB 50.7MB/s eta 0:00:01\r",
      "\u001b[K    71% |███████████████████████         | 706kB 50.9MB/s eta 0:00:01\r",
      "\u001b[K    72% |███████████████████████▎        | 716kB 51.5MB/s eta 0:00:01\r",
      "\u001b[K    73% |███████████████████████▋        | 727kB 52.1MB/s eta 0:00:01\r",
      "\u001b[K    74% |████████████████████████        | 737kB 51.8MB/s eta 0:00:01\r",
      "\u001b[K    75% |████████████████████████▎       | 747kB 52.1MB/s eta 0:00:01\r",
      "\u001b[K    76% |████████████████████████▋       | 757kB 52.1MB/s eta 0:00:01\r",
      "\u001b[K    77% |████████████████████████▉       | 768kB 72.8MB/s eta 0:00:01\r",
      "\u001b[K    78% |█████████████████████████▏      | 778kB 74.1MB/s eta 0:00:01\r",
      "\u001b[K    79% |█████████████████████████▌      | 788kB 72.0MB/s eta 0:00:01\r",
      "\u001b[K    80% |█████████████████████████▉      | 798kB 72.8MB/s eta 0:00:01\r",
      "\u001b[K    81% |██████████████████████████▏     | 808kB 72.7MB/s eta 0:00:01\r",
      "\u001b[K    82% |██████████████████████████▌     | 819kB 72.6MB/s eta 0:00:01\r",
      "\u001b[K    83% |██████████████████████████▉     | 829kB 73.3MB/s eta 0:00:01\r",
      "\u001b[K    85% |███████████████████████████▏    | 839kB 73.3MB/s eta 0:00:01\r",
      "\u001b[K    86% |███████████████████████████▌    | 849kB 72.8MB/s eta 0:00:01\r",
      "\u001b[K    87% |███████████████████████████▉    | 860kB 60.2MB/s eta 0:00:01\r",
      "\u001b[K    88% |████████████████████████████▏   | 870kB 58.6MB/s eta 0:00:01\r",
      "\u001b[K    89% |████████████████████████████▌   | 880kB 59.3MB/s eta 0:00:01\r",
      "\u001b[K    90% |████████████████████████████▉   | 890kB 60.0MB/s eta 0:00:01\r",
      "\u001b[K    91% |█████████████████████████████▏  | 901kB 59.8MB/s eta 0:00:01\r",
      "\u001b[K    92% |█████████████████████████████▌  | 911kB 59.4MB/s eta 0:00:01\r",
      "\u001b[K    93% |█████████████████████████████▉  | 921kB 59.5MB/s eta 0:00:01\r",
      "\u001b[K    94% |██████████████████████████████▏ | 931kB 59.4MB/s eta 0:00:01\r",
      "\u001b[K    95% |██████████████████████████████▌ | 942kB 60.1MB/s eta 0:00:01\r",
      "\u001b[K    96% |██████████████████████████████▉ | 952kB 59.9MB/s eta 0:00:01\r",
      "\u001b[K    97% |███████████████████████████████▏| 962kB 72.8MB/s eta 0:00:01\r",
      "\u001b[K    98% |███████████████████████████████▌| 972kB 75.3MB/s eta 0:00:01\r",
      "\u001b[K    99% |███████████████████████████████▉| 983kB 73.7MB/s eta 0:00:01\r",
      "\u001b[K    100% |████████████████████████████████| 993kB 21.0MB/s \n",
      "\u001b[?25h  Building wheel for PyDrive (setup.py) ... \u001b[?25ldone\n",
      "\u001b[?25h"
     ]
    }
   ],
   "source": [
    "# Code to download file into Colaboratory:\n",
    "!pip install -U -q PyDrive\n",
    "from pydrive.auth import GoogleAuth\n",
    "from pydrive.drive import GoogleDrive\n",
    "from google.colab import auth\n",
    "from oauth2client.client import GoogleCredentials\n",
    "# Authenticate and create the PyDrive client.\n",
    "auth.authenticate_user()\n",
    "gauth = GoogleAuth()\n",
    "gauth.credentials = GoogleCredentials.get_application_default()\n",
    "drive = GoogleDrive(gauth)\n",
    "\n",
    "id = '1x1BE_N8kCKDT9zo60DQPIjURy_-c5ULW'\n",
    "downloaded = drive.CreateFile({'id':id}) \n",
    "downloaded.GetContentFile('tagged_plots_movielens.csv')  "
   ]
  },
  {
   "cell_type": "markdown",
   "metadata": {
    "colab_type": "text",
    "id": "ey3Qgj746GP4"
   },
   "source": [
    "## pandas\n",
    "You can use pandas to read csv file and show data distribution."
   ]
  },
  {
   "cell_type": "code",
   "execution_count": 0,
   "metadata": {
    "colab": {},
    "colab_type": "code",
    "id": "kuN4J1UcPDjJ"
   },
   "outputs": [],
   "source": [
    "import pandas as pd\n",
    "import numpy as np\n",
    "\n",
    "df = pd.read_csv('tagged_plots_movielens.csv')\n",
    "#remove mnissing values\n",
    "df = df.dropna()"
   ]
  },
  {
   "cell_type": "code",
   "execution_count": 0,
   "metadata": {
    "colab": {
     "base_uri": "https://localhost:8080/",
     "height": 381
    },
    "colab_type": "code",
    "id": "A_c_97Gxb5hM",
    "outputId": "d384ff84-39d2-420b-a091-e7714b0ab1cd"
   },
   "outputs": [
    {
     "name": "stdout",
     "output_type": "stream",
     "text": [
      "['animation' 'fantasy' 'comedy' 'action' 'romance' 'sci-fi']\n"
     ]
    },
    {
     "data": {
      "text/plain": [
       "<matplotlib.axes._subplots.AxesSubplot at 0x7f67759cf7b8>"
      ]
     },
     "execution_count": 11,
     "metadata": {
      "tags": []
     },
     "output_type": "execute_result"
    },
    {
     "data": {
      "image/png": "[encoded data removed]",
      "text/plain": [
       "<Figure size 576x396 with 1 Axes>"
      ]
     },
     "metadata": {
      "tags": []
     },
     "output_type": "display_data"
    }
   ],
   "source": [
    "my_tags = df.tag.unique()\n",
    "print(my_tags)\n",
    "\n",
    "# plot \"tag\" of dataframe (df) which is converted (returned by read_csv()) from \"tagged_plots_movielens.csv\" file\n",
    "df.tag.value_counts().plot(kind=\"bar\", rot=0)"
   ]
  },
  {
   "cell_type": "markdown",
   "metadata": {
    "colab_type": "text",
    "id": "InfsnW995y3D"
   },
   "source": [
    "## Scikit-learn\n",
    "\n"
   ]
  },
  {
   "cell_type": "markdown",
   "metadata": {
    "colab_type": "text",
    "id": "MlpBgHqx9_xQ"
   },
   "source": [
    "### Data Split for evaluation (Training & Testing)\n",
    "** [train_test_split()](https://scikit-learn.org/stable/modules/generated/sklearn.model_selection.train_test_split.html)** splits arrays or matrices into random train and test subsets."
   ]
  },
  {
   "cell_type": "code",
   "execution_count": 0,
   "metadata": {
    "colab": {},
    "colab_type": "code",
    "id": "VOgmCSV9-Ii6"
   },
   "outputs": [],
   "source": [
    "from sklearn.model_selection import train_test_split\n",
    "\n",
    "import warnings\n",
    "warnings.simplefilter(action='ignore', category=FutureWarning)\n",
    "\n",
    "\n",
    "train_data, test_data = train_test_split(df, test_size=0.1, random_state=42)"
   ]
  },
  {
   "cell_type": "markdown",
   "metadata": {
    "colab_type": "text",
    "id": "DAOeRyZy8GSN"
   },
   "source": [
    "### Confusion Matrix with TFIDF Vector\n"
   ]
  },
  {
   "cell_type": "markdown",
   "metadata": {
    "colab_type": "text",
    "id": "qSDVudhI-h59"
   },
   "source": [
    "You can use [confusion matrix](https://scikit-learn.org/stable/auto_examples/model_selection/plot_confusion_matrix.html#sphx-glr-auto-examples-model-selection-plot-confusion-matrix-py) to show the prediction result:\n",
    "\n",
    "\n",
    "![Tensor_Rank](https://drive.google.com/uc?id=11qxpox8m6koNvxcM0EGil9WC88EQE5L0)\n"
   ]
  },
  {
   "cell_type": "markdown",
   "metadata": {
    "colab_type": "text",
    "id": "GqnEjTkX_DhS"
   },
   "source": [
    "**TFIDFVectorizer**\n",
    "\n",
    "**[TFIDFVectorizer](https://scikit-learn.org/stable/modules/generated/sklearn.feature_extraction.text.TfidfVectorizer.html)** converts a collection of raw documents to a matrix of TF-IDF features.\n"
   ]
  },
  {
   "cell_type": "code",
   "execution_count": 0,
   "metadata": {
    "colab": {
     "base_uri": "https://localhost:8080/",
     "height": 68
    },
    "colab_type": "code",
    "id": "E97x0cil-YAv",
    "outputId": "3230156b-5fd8-4ba0-ecda-411dcbc08ac9"
   },
   "outputs": [
    {
     "name": "stdout",
     "output_type": "stream",
     "text": [
      "[nltk_data] Downloading package punkt to /root/nltk_data...\n",
      "[nltk_data]   Unzipping tokenizers/punkt.zip.\n"
     ]
    },
    {
     "data": {
      "text/plain": [
       "True"
      ]
     },
     "execution_count": 13,
     "metadata": {
      "tags": []
     },
     "output_type": "execute_result"
    }
   ],
   "source": [
    "from sklearn.feature_extraction.text import TfidfVectorizer\n",
    "\n",
    "import matplotlib.pyplot as plt\n",
    "\n",
    "import nltk\n",
    "nltk.download('punkt')"
   ]
  },
  {
   "cell_type": "code",
   "execution_count": 0,
   "metadata": {
    "colab": {},
    "colab_type": "code",
    "id": "vpq_bplTcUVu"
   },
   "outputs": [],
   "source": [
    "tf_vect = TfidfVectorizer(\n",
    "    min_df=2, tokenizer=nltk.word_tokenize,\n",
    "    preprocessor=None, stop_words='english')\n",
    "train_data_features = tf_vect.fit_transform(train_data['plots'])\n"
   ]
  },
  {
   "cell_type": "markdown",
   "metadata": {
    "colab_type": "text",
    "id": "VdH-pNil_RE-"
   },
   "source": [
    "**Classifier** - [Multi Layer Perceptron (MLPClassifier)](https://scikit-learn.org/stable/modules/neural_networks_supervised.html)\n"
   ]
  },
  {
   "cell_type": "code",
   "execution_count": 0,
   "metadata": {
    "colab": {
     "base_uri": "https://localhost:8080/",
     "height": 136
    },
    "colab_type": "code",
    "id": "o4kMnsHv_Rvc",
    "outputId": "0117dbfb-b9c1-4f74-c19f-522bc912ae61"
   },
   "outputs": [
    {
     "data": {
      "text/plain": [
       "MLPClassifier(activation='relu', alpha=1e-05, batch_size='auto', beta_1=0.9,\n",
       "       beta_2=0.999, early_stopping=False, epsilon=1e-08,\n",
       "       hidden_layer_sizes=(5, 2), learning_rate='constant',\n",
       "       learning_rate_init=0.001, max_iter=200, momentum=0.9,\n",
       "       n_iter_no_change=10, nesterovs_momentum=True, power_t=0.5,\n",
       "       random_state=1, shuffle=True, solver='lbfgs', tol=0.0001,\n",
       "       validation_fraction=0.1, verbose=False, warm_start=False)"
      ]
     },
     "execution_count": 15,
     "metadata": {
      "tags": []
     },
     "output_type": "execute_result"
    }
   ],
   "source": [
    "from sklearn.neural_network import MLPClassifier\n",
    "\n",
    "mlp = MLPClassifier(solver='lbfgs', alpha=1e-5,\n",
    "                    hidden_layer_sizes=(5, 2), random_state=1)\n",
    "\n",
    "mlp.fit(train_data_features, train_data['tag']) \n"
   ]
  },
  {
   "cell_type": "code",
   "execution_count": 0,
   "metadata": {
    "colab": {},
    "colab_type": "code",
    "id": "uECGAQbXcTST"
   },
   "outputs": [],
   "source": [
    "from sklearn.metrics import accuracy_score, confusion_matrix\n"
   ]
  },
  {
   "cell_type": "code",
   "execution_count": 0,
   "metadata": {
    "colab": {
     "base_uri": "https://localhost:8080/",
     "height": 187
    },
    "colab_type": "code",
    "id": "XWsC1IKOfDx7",
    "outputId": "9efe2361-2296-4ae9-baaa-9db8231f9875"
   },
   "outputs": [
    {
     "data": {
      "text/plain": [
       "['pleasant',\n",
       " 'pleasure',\n",
       " 'pledge',\n",
       " 'pledges',\n",
       " 'plenty',\n",
       " 'plot',\n",
       " 'plots',\n",
       " 'plotting',\n",
       " 'plus',\n",
       " 'po']"
      ]
     },
     "execution_count": 17,
     "metadata": {
      "tags": []
     },
     "output_type": "execute_result"
    }
   ],
   "source": [
    "tf_vect.get_feature_names()[5000:5010]"
   ]
  },
  {
   "cell_type": "code",
   "execution_count": 0,
   "metadata": {
    "colab": {},
    "colab_type": "code",
    "id": "7ab3fthkfVNa"
   },
   "outputs": [],
   "source": [
    "def display_confusion_matrix(vectorizer, classifier, data):\n",
    "  \n",
    "    data_features = vectorizer.transform(data['plots'])\n",
    "    predictions = classifier.predict(data_features)\n",
    "    target = data['tag']\n",
    "    \n",
    "    cm = confusion_matrix(target, predictions)\n",
    "    \n",
    "    cm_normalized = cm.astype('float') / cm.sum(axis=1)[:, np.newaxis]\n",
    "    \n",
    "    plt.imshow(cm, interpolation='nearest', cmap=plt.cm.Blues)\n",
    "    plt.title(\"Confusion matrix\")\n",
    "    plt.colorbar()\n",
    "    tick_marks = np.arange(len(my_tags))\n",
    "    target_names = my_tags\n",
    "    plt.xticks(tick_marks, target_names, rotation=45)\n",
    "    plt.yticks(tick_marks, target_names)\n",
    "    plt.tight_layout()\n",
    "    plt.ylabel('True label')\n",
    "    plt.xlabel('Predicted label')\n",
    "    "
   ]
  },
  {
   "cell_type": "code",
   "execution_count": 0,
   "metadata": {
    "colab": {
     "base_uri": "https://localhost:8080/",
     "height": 415
    },
    "colab_type": "code",
    "id": "NtCjzL10fOKa",
    "outputId": "f92bce62-a7dd-445c-b317-2ea7e91d90f4"
   },
   "outputs": [
    {
     "data": {
      "image/png": "[encoded data removed]",
      "text/plain": [
       "<Figure size 576x396 with 2 Axes>"
      ]
     },
     "metadata": {
      "tags": []
     },
     "output_type": "display_data"
    }
   ],
   "source": [
    "display_confusion_matrix(tf_vect, mlp, test_data)"
   ]
  },
  {
   "cell_type": "markdown",
   "metadata": {
    "colab_type": "text",
    "id": "lJPx2i5C0Bfc"
   },
   "source": [
    "# Exercise\n",
    "\n",
    "**You are required to write two functions: **\n",
    "\n",
    "*   **generate_models() : which generates each Word2Vec model for six genres (\"tag\" column) of the movie using \"plot\" data ([Remove stop words](https://radimrehurek.com/gensim/parsing/preprocessing.html#gensim.parsing.preprocessing.remove_stopwords)). \n",
    "  The generated models should be returned by the function.**\n",
    "  \n",
    "    Return: A dictionary (key: name of  genre, 'tag' & value: generated model) \n",
    "    \n",
    "*   **get_vector(model, word) : which returns a vector of the given word in the given model (model - i.e. models[\"sci-fi\"]). If the given word is not included in the vocabulary list, return None ** \n",
    "  \n",
    "    Return : An array (vector of word embeddings)\n",
    "\n",
    "\n"
   ]
  },
  {
   "cell_type": "code",
   "execution_count": 0,
   "metadata": {
    "colab": {},
    "colab_type": "code",
    "id": "x5-33jOlBf2E"
   },
   "outputs": [],
   "source": [
    "# You should submit \"ipynb\" file (You can download it from \"File\" > \"Download .ipynb\") to Canvas\n",
    "# Please include the required libraries\n",
    "\n",
    "\n",
    "def generate_models():\n",
    "  models = {}\n",
    "    \n",
    "    \n",
    "  return models\n",
    "\n",
    "\n",
    "def get_vector(model, word):\n",
    "  vector = None\n",
    "  \n",
    "  \n",
    "  return vector\n",
    "\n",
    "\n",
    "models = generate_models()\n",
    "vector = get_vector(models[\"sci-fi\"], \"not_exist\")\n",
    "\n",
    "print(vector)\n",
    "\n",
    "vector = get_vector(models[\"sci-fi\"], \"mars\")\n",
    "\n",
    "print(vector)"
   ]
  }
 ],
 "metadata": {
  "colab": {
   "collapsed_sections": [],
   "name": "Lab03.ipynb",
   "provenance": [],
   "toc_visible": true,
   "version": "0.3.2"
  },
  "kernelspec": {
   "display_name": "Python 3",
   "language": "python",
   "name": "python3"
  },
  "language_info": {
   "codemirror_mode": {
    "name": "ipython",
    "version": 3
   },
   "file_extension": ".py",
   "mimetype": "text/x-python",
   "name": "python",
   "nbconvert_exporter": "python",
   "pygments_lexer": "ipython3",
   "version": "3.6.5"
  }
 },
 "nbformat": 4,
 "nbformat_minor": 1
}
