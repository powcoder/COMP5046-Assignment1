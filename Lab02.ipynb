{
 "cells": [
  {
   "cell_type": "markdown",
   "metadata": {
    "colab_type": "text",
    "id": "GCHPkKbuhPF6"
   },
   "source": [
    "# Lab 02"
   ]
  },
  {
   "cell_type": "markdown",
   "metadata": {
    "colab_type": "text",
    "id": "gV7vMHSahdnf"
   },
   "source": [
    "## Google Drive Access Setup"
   ]
  },
  {
   "cell_type": "code",
   "execution_count": 2,
   "metadata": {
    "colab": {},
    "colab_type": "code",
    "id": "oTSQtnPkfyzj"
   },
   "outputs": [
    {
     "name": "stderr",
     "output_type": "stream",
     "text": [
      "distributed 1.21.8 requires msgpack, which is not installed.\n",
      "You are using pip version 10.0.1, however version 19.0.3 is available.\n",
      "You should consider upgrading via the 'python -m pip install --upgrade pip' command.\n"
     ]
    },
    {
     "ename": "ModuleNotFoundError",
     "evalue": "No module named 'google.colab'",
     "output_type": "error",
     "traceback": [
      "\u001b[1;31m---------------------------------------------------------------------------\u001b[0m",
      "\u001b[1;31mModuleNotFoundError\u001b[0m                       Traceback (most recent call last)",
      "\u001b[1;32m<ipython-input-2-36e60f779f9d>\u001b[0m in \u001b[0;36m<module>\u001b[1;34m()\u001b[0m\n\u001b[0;32m      3\u001b[0m \u001b[1;32mfrom\u001b[0m \u001b[0mpydrive\u001b[0m\u001b[1;33m.\u001b[0m\u001b[0mauth\u001b[0m \u001b[1;32mimport\u001b[0m \u001b[0mGoogleAuth\u001b[0m\u001b[1;33m\u001b[0m\u001b[0m\n\u001b[0;32m      4\u001b[0m \u001b[1;32mfrom\u001b[0m \u001b[0mpydrive\u001b[0m\u001b[1;33m.\u001b[0m\u001b[0mdrive\u001b[0m \u001b[1;32mimport\u001b[0m \u001b[0mGoogleDrive\u001b[0m\u001b[1;33m\u001b[0m\u001b[0m\n\u001b[1;32m----> 5\u001b[1;33m \u001b[1;32mfrom\u001b[0m \u001b[0mgoogle\u001b[0m\u001b[1;33m.\u001b[0m\u001b[0mcolab\u001b[0m \u001b[1;32mimport\u001b[0m \u001b[0mauth\u001b[0m\u001b[1;33m\u001b[0m\u001b[0m\n\u001b[0m\u001b[0;32m      6\u001b[0m \u001b[1;32mfrom\u001b[0m \u001b[0moauth2client\u001b[0m\u001b[1;33m.\u001b[0m\u001b[0mclient\u001b[0m \u001b[1;32mimport\u001b[0m \u001b[0mGoogleCredentials\u001b[0m\u001b[1;33m\u001b[0m\u001b[0m\n\u001b[0;32m      7\u001b[0m \u001b[1;31m# Authenticate and create the PyDrive client.\u001b[0m\u001b[1;33m\u001b[0m\u001b[1;33m\u001b[0m\u001b[0m\n",
      "\u001b[1;31mModuleNotFoundError\u001b[0m: No module named 'google.colab'"
     ]
    }
   ],
   "source": [
    "# Code to download file into Colaboratory:\n",
    "!pip install -U -q PyDrive\n",
    "from pydrive.auth import GoogleAuth\n",
    "from pydrive.drive import GoogleDrive\n",
    "from google.colab import auth\n",
    "from oauth2client.client import GoogleCredentials\n",
    "# Authenticate and create the PyDrive client.\n",
    "auth.authenticate_user()\n",
    "gauth = GoogleAuth()\n",
    "gauth.credentials = GoogleCredentials.get_application_default()\n",
    "drive = GoogleDrive(gauth)"
   ]
  },
  {
   "cell_type": "markdown",
   "metadata": {
    "colab_type": "text",
    "id": "0isQ539cf_nI"
   },
   "source": [
    "## Word2Vec"
   ]
  },
  {
   "cell_type": "code",
   "execution_count": 3,
   "metadata": {
    "colab": {
     "base_uri": "https://localhost:8080/",
     "height": 51
    },
    "colab_type": "code",
    "id": "GNyhgK5QTOuD",
    "outputId": "bd19bf24-36b5-4b02-edbd-41e26037671f"
   },
   "outputs": [
    {
     "name": "stdout",
     "output_type": "stream",
     "text": [
      "[nltk_data] Downloading package punkt to\n",
      "[nltk_data]     C:\\Users\\daiwe\\AppData\\Roaming\\nltk_data...\n",
      "[nltk_data]   Package punkt is already up-to-date!\n"
     ]
    },
    {
     "ename": "ModuleNotFoundError",
     "evalue": "No module named 'gensim'",
     "output_type": "error",
     "traceback": [
      "\u001b[1;31m---------------------------------------------------------------------------\u001b[0m",
      "\u001b[1;31mModuleNotFoundError\u001b[0m                       Traceback (most recent call last)",
      "\u001b[1;32m<ipython-input-3-4250182821b0>\u001b[0m in \u001b[0;36m<module>\u001b[1;34m()\u001b[0m\n\u001b[0;32m      8\u001b[0m \u001b[1;32mfrom\u001b[0m \u001b[0mnltk\u001b[0m\u001b[1;33m.\u001b[0m\u001b[0mtokenize\u001b[0m \u001b[1;32mimport\u001b[0m \u001b[0mword_tokenize\u001b[0m\u001b[1;33m,\u001b[0m \u001b[0msent_tokenize\u001b[0m\u001b[1;33m\u001b[0m\u001b[0m\n\u001b[0;32m      9\u001b[0m \u001b[1;33m\u001b[0m\u001b[0m\n\u001b[1;32m---> 10\u001b[1;33m \u001b[1;32mfrom\u001b[0m \u001b[0mgensim\u001b[0m\u001b[1;33m.\u001b[0m\u001b[0mmodels\u001b[0m \u001b[1;32mimport\u001b[0m \u001b[0mWord2Vec\u001b[0m\u001b[1;33m\u001b[0m\u001b[0m\n\u001b[0m\u001b[0;32m     11\u001b[0m \u001b[1;33m\u001b[0m\u001b[0m\n\u001b[0;32m     12\u001b[0m \u001b[1;32mimport\u001b[0m \u001b[0mwarnings\u001b[0m\u001b[1;33m\u001b[0m\u001b[0m\n",
      "\u001b[1;31mModuleNotFoundError\u001b[0m: No module named 'gensim'"
     ]
    }
   ],
   "source": [
    "import nltk\n",
    "nltk.download('punkt')\n",
    "\n",
    "import pprint\n",
    "import re\n",
    "from lxml import etree\n",
    "import nltk\n",
    "from nltk.tokenize import word_tokenize, sent_tokenize\n",
    "\n",
    "from gensim.models import Word2Vec\n",
    "\n",
    "import warnings\n",
    "warnings.simplefilter(action='ignore', category=FutureWarning)"
   ]
  },
  {
   "cell_type": "markdown",
   "metadata": {
    "colab_type": "text",
    "id": "ewAbjQzThnT5"
   },
   "source": [
    "### Downloading TED Scripts from Google Drive \n",
    "Click on left side \"Files\" tab and see the file is downloaded successfully."
   ]
  },
  {
   "cell_type": "code",
   "execution_count": 0,
   "metadata": {
    "colab": {},
    "colab_type": "code",
    "id": "EVk7tjwvhl-6"
   },
   "outputs": [],
   "source": [
    "id = '1B47OiEiG2Lo1jUY6hy_zMmHBxfKQuJ8-'\n",
    "downloaded = drive.CreateFile({'id':id}) \n",
    "downloaded.GetContentFile('ted_en-20160408.xml')  "
   ]
  },
  {
   "cell_type": "markdown",
   "metadata": {
    "colab_type": "text",
    "id": "FIPpEvI4kqMV"
   },
   "source": [
    "### Data Preprocessing"
   ]
  },
  {
   "cell_type": "code",
   "execution_count": 0,
   "metadata": {
    "colab": {
     "base_uri": "https://localhost:8080/",
     "height": 54
    },
    "colab_type": "code",
    "id": "VYmEQgB7XoDE",
    "outputId": "9cf88d31-da23-4f2a-9896-2703ae762822"
   },
   "outputs": [
    {
     "name": "stdout",
     "output_type": "stream",
     "text": [
      "[['here', 'are', 'two', 'reasons', 'companies', 'fail', 'they', 'only', 'do', 'more', 'of', 'the', 'same', 'or', 'they', 'only', 'do', 'what', 's', 'new'], ['to', 'me', 'the', 'real', 'real', 'solution', 'to', 'quality', 'growth', 'is', 'figuring', 'out', 'the', 'balance', 'between', 'two', 'activities', 'exploration', 'and', 'exploitation'], ['both', 'are', 'necessary', 'but', 'it', 'can', 'be', 'too', 'much', 'of', 'a', 'good', 'thing'], ['consider', 'facit'], ['i', 'm', 'actually', 'old', 'enough', 'to', 'remember', 'them'], ['facit', 'was', 'a', 'fantastic', 'company'], ['they', 'were', 'born', 'deep', 'in', 'the', 'swedish', 'forest', 'and', 'they', 'made', 'the', 'best', 'mechanical', 'calculators', 'in', 'the', 'world'], ['everybody', 'used', 'them'], ['and', 'what', 'did', 'facit', 'do', 'when', 'the', 'electronic', 'calculator', 'came', 'along'], ['they', 'continued', 'doing', 'exactly', 'the', 'same']]\n"
     ]
    }
   ],
   "source": [
    "targetXML=open('ted_en-20160408.xml', 'r', encoding='UTF8')\n",
    "\n",
    "# Getting contents of <content> tag from the xml file\n",
    "target_text = etree.parse(targetXML)\n",
    "parse_text = '\\n'.join(target_text.xpath('//content/text()'))\n",
    "\n",
    "# Removing \"Sound-effect labels\" using regular expression (i.e. (Audio), (Laughter))\n",
    "content_text = re.sub(r'\\([^)]*\\)', '', parse_text)\n",
    "\n",
    "# Tokenising the sentence to process it by using NLTK library\n",
    "sent_text=sent_tokenize(content_text)\n",
    "\n",
    "# Removing punctuations and changing all characters to lower case\n",
    "normalized_text = []\n",
    "for string in sent_text:\n",
    "     tokens = re.sub(r\"[^a-z0-9]+\", \" \", string.lower())\n",
    "     normalized_text.append(tokens)\n",
    "\n",
    "# Tokenising each sentence to process individual word\n",
    "sentences=[]\n",
    "sentences=[word_tokenize(sentence) for sentence in normalized_text]\n",
    "\n",
    "# Prints only 10 (tokenised) sentences\n",
    "print(sentences[:10])"
   ]
  },
  {
   "cell_type": "markdown",
   "metadata": {
    "colab_type": "text",
    "id": "CojV1MbhkQxK"
   },
   "source": [
    "### Word2Vec - Continuous Bag-Of-Words (CBOW)"
   ]
  },
  {
   "cell_type": "code",
   "execution_count": 0,
   "metadata": {
    "colab": {},
    "colab_type": "code",
    "id": "zW1iEee3lZC9"
   },
   "outputs": [],
   "source": [
    "wv_cbow_model = Word2Vec(sentences=sentences, size=100, window=5, min_count=5, workers=4, sg=0)"
   ]
  },
  {
   "cell_type": "code",
   "execution_count": 0,
   "metadata": {
    "colab": {
     "base_uri": "https://localhost:8080/",
     "height": 187
    },
    "colab_type": "code",
    "id": "2FKp3X7pkRm6",
    "outputId": "010db336-d508-45c6-ce79-c3bc908f78e9"
   },
   "outputs": [
    {
     "name": "stdout",
     "output_type": "stream",
     "text": [
      "[('woman', 0.851108193397522),\n",
      " ('guy', 0.8076339364051819),\n",
      " ('lady', 0.7675459384918213),\n",
      " ('boy', 0.7619550228118896),\n",
      " ('girl', 0.7390323877334595),\n",
      " ('gentleman', 0.7282595634460449),\n",
      " ('soldier', 0.7208263874053955),\n",
      " ('poet', 0.7036651372909546),\n",
      " ('kid', 0.6826914548873901),\n",
      " ('rabbi', 0.6775092482566833)]\n"
     ]
    }
   ],
   "source": [
    "similar_words=wv_cbow_model.wv.most_similar(\"man\")\n",
    "pprint.pprint(similar_words)"
   ]
  },
  {
   "cell_type": "markdown",
   "metadata": {
    "colab_type": "text",
    "id": "dsFHg0znlPSf"
   },
   "source": [
    "### Word2Vec - Skip Gram"
   ]
  },
  {
   "cell_type": "code",
   "execution_count": 0,
   "metadata": {
    "colab": {},
    "colab_type": "code",
    "id": "k16AowhCWUXu"
   },
   "outputs": [],
   "source": [
    "wv_sg_model = Word2Vec(sentences=sentences, size=100, window=5, min_count=5, workers=4, sg=1)"
   ]
  },
  {
   "cell_type": "code",
   "execution_count": 0,
   "metadata": {
    "colab": {
     "base_uri": "https://localhost:8080/",
     "height": 187
    },
    "colab_type": "code",
    "id": "e8UiVfr2cBtA",
    "outputId": "58ca9412-c43e-4b63-f4c2-e4ce8aa46eb6"
   },
   "outputs": [
    {
     "name": "stdout",
     "output_type": "stream",
     "text": [
      "[('guy', 0.7681315541267395),\n",
      " ('woman', 0.7646993398666382),\n",
      " ('soldier', 0.709970235824585),\n",
      " ('rabbi', 0.7043532133102417),\n",
      " ('boy', 0.7032051086425781),\n",
      " ('gentleman', 0.6925383806228638),\n",
      " ('policeman', 0.6811267137527466),\n",
      " ('handsome', 0.6787228584289551),\n",
      " ('comedian', 0.6779303550720215),\n",
      " ('cowboy', 0.677730917930603)]\n"
     ]
    }
   ],
   "source": [
    "similar_words=wv_sg_model.wv.most_similar(\"man\")\n",
    "pprint.pprint(similar_words)"
   ]
  },
  {
   "cell_type": "markdown",
   "metadata": {
    "colab_type": "text",
    "id": "NfF7YqvpppbG"
   },
   "source": [
    "## Word2Vec vs FastText"
   ]
  },
  {
   "cell_type": "markdown",
   "metadata": {
    "colab_type": "text",
    "id": "d8IV7D6VAEcr"
   },
   "source": [
    "Word2Vec - Skipgram cannot find similar word \"electrofishing\" as \"electrofishing\" is not in the vocabulary."
   ]
  },
  {
   "cell_type": "code",
   "execution_count": 0,
   "metadata": {
    "colab": {
     "base_uri": "https://localhost:8080/",
     "height": 419
    },
    "colab_type": "code",
    "id": "oS9c2uWWquWG",
    "outputId": "5647852e-adc1-460e-cf8a-a395b73d48f0"
   },
   "outputs": [
    {
     "ename": "KeyError",
     "evalue": "ignored",
     "output_type": "error",
     "traceback": [
      "\u001b[0;31m---------------------------------------------------------------------------\u001b[0m",
      "\u001b[0;31mKeyError\u001b[0m                                  Traceback (most recent call last)",
      "\u001b[0;32m<ipython-input-7-a2f7ec57b31e>\u001b[0m in \u001b[0;36m<module>\u001b[0;34m()\u001b[0m\n\u001b[0;32m----> 1\u001b[0;31m \u001b[0msimilar_words\u001b[0m\u001b[0;34m=\u001b[0m\u001b[0mwv_sg_model\u001b[0m\u001b[0;34m.\u001b[0m\u001b[0mwv\u001b[0m\u001b[0;34m.\u001b[0m\u001b[0mmost_similar\u001b[0m\u001b[0;34m(\u001b[0m\u001b[0;34m\"electrofishing\"\u001b[0m\u001b[0;34m)\u001b[0m\u001b[0;34m\u001b[0m\u001b[0;34m\u001b[0m\u001b[0m\n\u001b[0m\u001b[1;32m      2\u001b[0m \u001b[0mpprint\u001b[0m\u001b[0;34m.\u001b[0m\u001b[0mpprint\u001b[0m\u001b[0;34m(\u001b[0m\u001b[0msimilar_words\u001b[0m\u001b[0;34m)\u001b[0m\u001b[0;34m\u001b[0m\u001b[0;34m\u001b[0m\u001b[0m\n",
      "\u001b[0;32m/usr/local/lib/python3.6/dist-packages/gensim/models/keyedvectors.py\u001b[0m in \u001b[0;36mmost_similar\u001b[0;34m(self, positive, negative, topn, restrict_vocab, indexer)\u001b[0m\n\u001b[1;32m    529\u001b[0m                 \u001b[0mmean\u001b[0m\u001b[0;34m.\u001b[0m\u001b[0mappend\u001b[0m\u001b[0;34m(\u001b[0m\u001b[0mweight\u001b[0m \u001b[0;34m*\u001b[0m \u001b[0mword\u001b[0m\u001b[0;34m)\u001b[0m\u001b[0;34m\u001b[0m\u001b[0;34m\u001b[0m\u001b[0m\n\u001b[1;32m    530\u001b[0m             \u001b[0;32melse\u001b[0m\u001b[0;34m:\u001b[0m\u001b[0;34m\u001b[0m\u001b[0;34m\u001b[0m\u001b[0m\n\u001b[0;32m--> 531\u001b[0;31m                 \u001b[0mmean\u001b[0m\u001b[0;34m.\u001b[0m\u001b[0mappend\u001b[0m\u001b[0;34m(\u001b[0m\u001b[0mweight\u001b[0m \u001b[0;34m*\u001b[0m \u001b[0mself\u001b[0m\u001b[0;34m.\u001b[0m\u001b[0mword_vec\u001b[0m\u001b[0;34m(\u001b[0m\u001b[0mword\u001b[0m\u001b[0;34m,\u001b[0m \u001b[0muse_norm\u001b[0m\u001b[0;34m=\u001b[0m\u001b[0;32mTrue\u001b[0m\u001b[0;34m)\u001b[0m\u001b[0;34m)\u001b[0m\u001b[0;34m\u001b[0m\u001b[0;34m\u001b[0m\u001b[0m\n\u001b[0m\u001b[1;32m    532\u001b[0m                 \u001b[0;32mif\u001b[0m \u001b[0mword\u001b[0m \u001b[0;32min\u001b[0m \u001b[0mself\u001b[0m\u001b[0;34m.\u001b[0m\u001b[0mvocab\u001b[0m\u001b[0;34m:\u001b[0m\u001b[0;34m\u001b[0m\u001b[0;34m\u001b[0m\u001b[0m\n\u001b[1;32m    533\u001b[0m                     \u001b[0mall_words\u001b[0m\u001b[0;34m.\u001b[0m\u001b[0madd\u001b[0m\u001b[0;34m(\u001b[0m\u001b[0mself\u001b[0m\u001b[0;34m.\u001b[0m\u001b[0mvocab\u001b[0m\u001b[0;34m[\u001b[0m\u001b[0mword\u001b[0m\u001b[0;34m]\u001b[0m\u001b[0;34m.\u001b[0m\u001b[0mindex\u001b[0m\u001b[0;34m)\u001b[0m\u001b[0;34m\u001b[0m\u001b[0;34m\u001b[0m\u001b[0m\n",
      "\u001b[0;32m/usr/local/lib/python3.6/dist-packages/gensim/models/keyedvectors.py\u001b[0m in \u001b[0;36mword_vec\u001b[0;34m(self, word, use_norm)\u001b[0m\n\u001b[1;32m    450\u001b[0m             \u001b[0;32mreturn\u001b[0m \u001b[0mresult\u001b[0m\u001b[0;34m\u001b[0m\u001b[0;34m\u001b[0m\u001b[0m\n\u001b[1;32m    451\u001b[0m         \u001b[0;32melse\u001b[0m\u001b[0;34m:\u001b[0m\u001b[0;34m\u001b[0m\u001b[0;34m\u001b[0m\u001b[0m\n\u001b[0;32m--> 452\u001b[0;31m             \u001b[0;32mraise\u001b[0m \u001b[0mKeyError\u001b[0m\u001b[0;34m(\u001b[0m\u001b[0;34m\"word '%s' not in vocabulary\"\u001b[0m \u001b[0;34m%\u001b[0m \u001b[0mword\u001b[0m\u001b[0;34m)\u001b[0m\u001b[0;34m\u001b[0m\u001b[0;34m\u001b[0m\u001b[0m\n\u001b[0m\u001b[1;32m    453\u001b[0m \u001b[0;34m\u001b[0m\u001b[0m\n\u001b[1;32m    454\u001b[0m     \u001b[0;32mdef\u001b[0m \u001b[0mget_vector\u001b[0m\u001b[0;34m(\u001b[0m\u001b[0mself\u001b[0m\u001b[0;34m,\u001b[0m \u001b[0mword\u001b[0m\u001b[0;34m)\u001b[0m\u001b[0;34m:\u001b[0m\u001b[0;34m\u001b[0m\u001b[0;34m\u001b[0m\u001b[0m\n",
      "\u001b[0;31mKeyError\u001b[0m: \"word 'electrofishing' not in vocabulary\""
     ]
    }
   ],
   "source": [
    "similar_words=wv_sg_model.wv.most_similar(\"electrofishing\")\n",
    "pprint.pprint(similar_words)"
   ]
  },
  {
   "cell_type": "markdown",
   "metadata": {
    "colab_type": "text",
    "id": "5TpkScI8sA9G"
   },
   "source": [
    "### FastText - Skip Gram"
   ]
  },
  {
   "cell_type": "code",
   "execution_count": 0,
   "metadata": {
    "colab": {},
    "colab_type": "code",
    "id": "YAqOR1Vqps6M"
   },
   "outputs": [],
   "source": [
    "from gensim.models import FastText"
   ]
  },
  {
   "cell_type": "code",
   "execution_count": 0,
   "metadata": {
    "colab": {},
    "colab_type": "code",
    "id": "kqkvyiUw_DRh"
   },
   "outputs": [],
   "source": [
    "ft_sg_model = FastText(sentences, size=100, window=5, min_count=5, workers=4, sg=1)"
   ]
  },
  {
   "cell_type": "code",
   "execution_count": 0,
   "metadata": {
    "colab": {
     "base_uri": "https://localhost:8080/",
     "height": 187
    },
    "colab_type": "code",
    "id": "kv26QObJriB7",
    "outputId": "2dadf70d-ae41-4726-af23-8be00b541aa9"
   },
   "outputs": [
    {
     "name": "stdout",
     "output_type": "stream",
     "text": [
      "[('electrolux', 0.8047779202461243),\n",
      " ('electro', 0.7989339828491211),\n",
      " ('electric', 0.7973409295082092),\n",
      " ('electrolyte', 0.7957272529602051),\n",
      " ('electrochemical', 0.7689745426177979),\n",
      " ('electroshock', 0.7645504474639893),\n",
      " ('airbus', 0.7607172727584839),\n",
      " ('electrogram', 0.7588797807693481),\n",
      " ('gastric', 0.7578988671302795),\n",
      " ('electroencephalogram', 0.7539584636688232)]\n"
     ]
    }
   ],
   "source": [
    "result=ft_sg_model.wv.most_similar(\"electrofishing\")\n",
    "pprint.pprint(result)"
   ]
  },
  {
   "cell_type": "markdown",
   "metadata": {
    "colab_type": "text",
    "id": "X0x2aQpfsFSx"
   },
   "source": [
    "### FastText - Continuous Bag-Of-Words (CBOW)"
   ]
  },
  {
   "cell_type": "code",
   "execution_count": 0,
   "metadata": {
    "colab": {},
    "colab_type": "code",
    "id": "BUBqvqpc2sbL"
   },
   "outputs": [],
   "source": [
    "ft_cbow_model = FastText(sentences, size=100, window=5, min_count=5, workers=4, sg=0)"
   ]
  },
  {
   "cell_type": "code",
   "execution_count": 0,
   "metadata": {
    "colab": {
     "base_uri": "https://localhost:8080/",
     "height": 187
    },
    "colab_type": "code",
    "id": "kUj1RUzM2nLA",
    "outputId": "41b9b582-c569-40f0-bd32-73ddc5b5705c"
   },
   "outputs": [
    {
     "name": "stdout",
     "output_type": "stream",
     "text": [
      "[('electric', 0.9130792617797852),\n",
      " ('electro', 0.9014642238616943),\n",
      " ('electrolux', 0.8920943737030029),\n",
      " ('electron', 0.8828102350234985),\n",
      " ('electronic', 0.8791064023971558),\n",
      " ('electroshock', 0.8719875812530518),\n",
      " ('electrical', 0.8711882829666138),\n",
      " ('electrolyte', 0.8692057728767395),\n",
      " ('electrode', 0.8615459203720093),\n",
      " ('electromagnet', 0.8559844493865967)]\n"
     ]
    }
   ],
   "source": [
    "result=ft_cbow_model.wv.most_similar(\"electrofishing\")\n",
    "pprint.pprint(result)"
   ]
  },
  {
   "cell_type": "markdown",
   "metadata": {
    "colab_type": "text",
    "id": "6hjmOhmRi7Ov"
   },
   "source": [
    "## King - Man + Woman = ?"
   ]
  },
  {
   "cell_type": "markdown",
   "metadata": {
    "colab_type": "text",
    "id": "Xw7b9OSwjGm0"
   },
   "source": [
    "Try both CBOW and Skip Gram model to calculate \"King - Man + Woman = ?\""
   ]
  },
  {
   "cell_type": "code",
   "execution_count": 0,
   "metadata": {
    "colab": {
     "base_uri": "https://localhost:8080/",
     "height": 34
    },
    "colab_type": "code",
    "id": "ovTXjSdgrw36",
    "outputId": "cfe40eca-44d2-40bd-f96b-d45497ec09de"
   },
   "outputs": [
    {
     "name": "stdout",
     "output_type": "stream",
     "text": [
      "[('president', 0.7746388912200928)]\n"
     ]
    }
   ],
   "source": [
    "result = wv_cbow_model.wv.most_similar(positive=['woman', 'king'], negative=['man'], topn=1)\n",
    "print(result)"
   ]
  },
  {
   "cell_type": "code",
   "execution_count": 0,
   "metadata": {
    "colab": {
     "base_uri": "https://localhost:8080/",
     "height": 34
    },
    "colab_type": "code",
    "id": "gUtbE2jwq1to",
    "outputId": "ba3b8fc1-8a0c-4f80-c5cc-93194f5e51b5"
   },
   "outputs": [
    {
     "name": "stdout",
     "output_type": "stream",
     "text": [
      "[('luther', 0.6568899750709534)]\n"
     ]
    }
   ],
   "source": [
    "result = wv_sg_model.wv.most_similar(positive=['woman', 'king'], negative=['man'], topn=1)\n",
    "print(result)\n"
   ]
  },
  {
   "cell_type": "code",
   "execution_count": 0,
   "metadata": {
    "colab": {
     "base_uri": "https://localhost:8080/",
     "height": 34
    },
    "colab_type": "code",
    "id": "3PWf2I4_WZpG",
    "outputId": "ff989bb6-2c6a-4b89-f726-1a7296dc7dc0"
   },
   "outputs": [
    {
     "name": "stdout",
     "output_type": "stream",
     "text": [
      "[('kidding', 0.8817100524902344)]\n"
     ]
    }
   ],
   "source": [
    "result = ft_cbow_model.wv.most_similar(positive=['woman', 'king'], negative=['man'], topn=1)\n",
    "print(result)\n"
   ]
  },
  {
   "cell_type": "code",
   "execution_count": 0,
   "metadata": {
    "colab": {
     "base_uri": "https://localhost:8080/",
     "height": 34
    },
    "colab_type": "code",
    "id": "j9x51rRhWZrx",
    "outputId": "be88192f-84b4-48c5-bd17-6a83b0e0c043"
   },
   "outputs": [
    {
     "name": "stdout",
     "output_type": "stream",
     "text": [
      "[('jarring', 0.7067565321922302)]\n"
     ]
    }
   ],
   "source": [
    "result = ft_sg_model.wv.most_similar(positive=['woman', 'king'], negative=['man'], topn=1)\n",
    "print(result)\n"
   ]
  },
  {
   "cell_type": "markdown",
   "metadata": {
    "colab_type": "text",
    "id": "KpAd8t-wjTMA"
   },
   "source": [
    "This is not what we expected...Probably not enough data to answer as \"Queen\"\n",
    "\n",
    "Let's  try with bigger sized data (Google has already trained Word2Vec with Google News data)\n"
   ]
  },
  {
   "cell_type": "markdown",
   "metadata": {
    "colab_type": "text",
    "id": "GMY5w8F7rElp"
   },
   "source": [
    "### Google's Pretrained Word2Vec (Google News)\n",
    "[Link to Project](https://code.google.com/archive/p/word2vec/)\n"
   ]
  },
  {
   "cell_type": "code",
   "execution_count": 0,
   "metadata": {
    "colab": {},
    "colab_type": "code",
    "id": "teQvZDSirVVC"
   },
   "outputs": [],
   "source": [
    "# Beware, this file is big (3.39GB) \n",
    "id2 = '1cOEYOQRd1VXi7ROShhqZbioCcePvgnR5'\n",
    "downloaded = drive.CreateFile({'id':id2}) \n",
    "downloaded.GetContentFile('GoogleNews-vectors-negative300.bin')  "
   ]
  },
  {
   "cell_type": "code",
   "execution_count": 0,
   "metadata": {
    "colab": {},
    "colab_type": "code",
    "id": "64e_sRJ1rhUa"
   },
   "outputs": [],
   "source": [
    "from gensim.models import KeyedVectors\n",
    "import warnings\n",
    "warnings.simplefilter(action='ignore', category=FutureWarning)\n",
    "\n",
    "filename = 'GoogleNews-vectors-negative300.bin'\n",
    "gn_wv_model = KeyedVectors.load_word2vec_format(filename, binary=True)"
   ]
  },
  {
   "cell_type": "code",
   "execution_count": 0,
   "metadata": {
    "colab": {
     "base_uri": "https://localhost:8080/",
     "height": 34
    },
    "colab_type": "code",
    "id": "PvMQp2-Tr3zl",
    "outputId": "67694f96-c6e5-4891-8914-6e3dc1f8ba6f"
   },
   "outputs": [
    {
     "name": "stdout",
     "output_type": "stream",
     "text": [
      "[('queen', 0.7118192911148071)]\n"
     ]
    }
   ],
   "source": [
    "result = gn_wv_model.most_similar(positive=['woman', 'king'], negative=['man'], topn=1)\n",
    "print(result)"
   ]
  },
  {
   "cell_type": "markdown",
   "metadata": {
    "colab_type": "text",
    "id": "RWOMy90CXtjy"
   },
   "source": [
    "# Exercise\n",
    "**You need to implement a Lab2 chatbot that returns a duckduckgo search url with the similar words (retrieved by Google's Word2Vec)**\n",
    "**(i.e. https://duckduckgo.com/?q=sydney+hotels+Hotel+motel+boutique_hotel)**\n",
    "\n",
    "\n",
    "1.  Chatbot should start with saying \"Welcome. Where would you like to search?\"\n",
    "2.  When search term (search term must be only one word) is entered by user, chatbot should return a search url with top 4 similar words (retrieved by Google's Word2Vec)\n",
    "3.  After showing a search url, chatbot should ask whether user is satisfied with the result, \"Are you satisfied with this result?\"\n",
    "4.  If user says \"yes\", then system says \"Thank you! See you again\" and system should be shut down.\n",
    "5.  If user says \"no\", then system ask \"Where would you like to search?\" and goes back to process 2\n",
    "\n",
    "\n",
    "\n",
    "\n",
    "\n",
    "\n",
    "## Example Communication (Between Lab2 Chatbot and you) \n",
    "\n",
    "\n",
    "```\n",
    "Chatbot: Welcome. What would you like to search?\n",
    "You: hotel\n",
    "Chatbot: https://duckduckgo.com/?q=hotels+Hotel+motel+boutique_hotel\n",
    "Chatbot: Are you satisfied with the result?\n",
    "You: no\n",
    "Chatbot: What would you like to search?\n",
    "You: hospital\n",
    "Chatbot: https://duckduckgo.com/?q=Hospital+hopsital+hosptial+hospitals\n",
    "Chatbot: Are you satisfied with the result?\n",
    "You: yes\n",
    "Chatbot: Thank you! See you again.\n",
    "```\n",
    "\n",
    "\n",
    "\n",
    "\n",
    "\n",
    "Useful information: [API for Gensim Word2Vec](https://radimrehurek.com/gensim/models/word2vec.html)\n",
    "\n"
   ]
  },
  {
   "cell_type": "code",
   "execution_count": 7,
   "metadata": {
    "colab": {},
    "colab_type": "code",
    "id": "7ylN0JymXtAw"
   },
   "outputs": [
    {
     "ename": "SyntaxError",
     "evalue": "invalid syntax (<ipython-input-7-37e687f4afc6>, line 2)",
     "output_type": "error",
     "traceback": [
      "\u001b[1;36m  File \u001b[1;32m\"<ipython-input-7-37e687f4afc6>\"\u001b[1;36m, line \u001b[1;32m2\u001b[0m\n\u001b[1;33m    conda install -c anaconda gensim\u001b[0m\n\u001b[1;37m                ^\u001b[0m\n\u001b[1;31mSyntaxError\u001b[0m\u001b[1;31m:\u001b[0m invalid syntax\n"
     ]
    }
   ],
   "source": [
    "# You should submit \"ipynb\" file (You can download it from \"File\" > \"Download .ipynb\") to Canvas\n",
    "conda install -c anaconda gensim \n",
    "\n",
    "import nltk\n",
    "nltk.download('punkt')\n",
    "\n",
    "import pprint\n",
    "import re\n",
    "from lxml import etree\n",
    "import nltk\n",
    "from nltk.tokenize import word_tokenize, sent_tokenize\n",
    "\n",
    "from gensim.models import Word2Vec\n",
    "\n",
    "import warnings\n",
    "warnings.simplefilter(action='ignore', category=FutureWarning)\n",
    "\n",
    "from gensim.models import KeyedVectors\n",
    "import warnings\n",
    "warnings.simplefilter(action='ignore', category=FutureWarning)\n",
    "\n",
    "filename = 'GoogleNews-vectors-negative300.bin'\n",
    "gn_wv_model = KeyedVectors.load_word2vec_format(filename, binary=True)\n",
    "\n",
    "\n",
    "\n",
    "print(\"Chatbot: Welcome. What would you like to search?\")\n",
    "word = input(\"You: \")\n",
    "result = gn_wv_model.most_similar(positive = [word], topn=4)\n",
    "print(result)\n",
    "\n",
    "print(\"Chatbot: Are you satisfied with the result?\")\n",
    "satisfy = input(\"You:\")\n",
    "\n",
    "while satisfy != \"yes\":\n",
    "  if satisfy == \"no\":\n",
    "    print(\"Chatbot: What would you like to search?\")\n",
    "    word = input(\"You: \")\n",
    "    result = gn_wv_model.most_similar(positive = [word], topn=4)\n",
    "    \n",
    "    link = \"https://duckduckgo.com/?q=\"+\"result[0][0]\"+\"+\"+\"result[1][0]\"+\"+\"+\"result[2][0]\"+\"+\"+\"result[0][0]\"\n",
    "    \n",
    "    print(\"Chatbot: \"+link)\n",
    "    print(\"Chatbot: Are you satisfied with the result?\")\n",
    "    satisfy = input(\"You: \")\n",
    "  else:\n",
    "    print(\"Chatbot: Are you satisfied with the result?\")\n",
    "    satisfy = input(\"You: \")    \n",
    "\n",
    "  \n",
    "print(\"Chatbot: Thank you! See you again.\")\n",
    "\n"
   ]
  },
  {
   "cell_type": "markdown",
   "metadata": {
    "colab_type": "text",
    "id": "YrjbuZYrXD88"
   },
   "source": [
    "# Extension"
   ]
  },
  {
   "cell_type": "markdown",
   "metadata": {
    "colab_type": "text",
    "id": "ywd_uc5dh2sY"
   },
   "source": [
    "## Word2Vec with Tensorflow\n",
    "\n",
    "If you want to implement Word2Vec with Tensorflow, here is a [sample code](https://github.com/tensorflow/tensorflow/blob/master/tensorflow/examples/tutorials/word2vec/word2vec_basic.py) by [tensorflow](https://github.com/tensorflow).  "
   ]
  },
  {
   "cell_type": "markdown",
   "metadata": {
    "colab_type": "text",
    "id": "8UWjBxLdTcEi"
   },
   "source": [
    "## Word Embedding Visual Inspector (WEVI)\n",
    "If you would like to visualise how Word2Vec is learning, the following link is useful https://ronxin.github.io/wevi/"
   ]
  }
 ],
 "metadata": {
  "accelerator": "GPU",
  "colab": {
   "collapsed_sections": [],
   "name": "Lab02.ipynb",
   "provenance": [],
   "toc_visible": true,
   "version": "0.3.2"
  },
  "kernelspec": {
   "display_name": "Python 3",
   "language": "python",
   "name": "python3"
  },
  "language_info": {
   "codemirror_mode": {
    "name": "ipython",
    "version": 3
   },
   "file_extension": ".py",
   "mimetype": "text/x-python",
   "name": "python",
   "nbconvert_exporter": "python",
   "pygments_lexer": "ipython3",
   "version": "3.6.5"
  }
 },
 "nbformat": 4,
 "nbformat_minor": 1
}
